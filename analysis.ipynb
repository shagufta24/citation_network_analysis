{
 "cells": [
  {
   "attachments": {},
   "cell_type": "markdown",
   "metadata": {},
   "source": [
    "# Network Analysis of a Citation network"
   ]
  },
  {
   "cell_type": "code",
   "execution_count": 1,
   "metadata": {},
   "outputs": [],
   "source": [
    "import igraph as ig\n",
    "import matplotlib.pyplot as plt\n",
    "import networkx as nx\n",
    "import numpy as np"
   ]
  },
  {
   "attachments": {},
   "cell_type": "markdown",
   "metadata": {},
   "source": [
    "### Create Graph"
   ]
  },
  {
   "cell_type": "code",
   "execution_count": 16,
   "metadata": {},
   "outputs": [],
   "source": [
    "# Read edge list into graph\n",
    "gi = ig.Graph.Read_Edgelist('data/edges.txt', directed=True)\n",
    "gn = nx.read_edgelist('data/edges.txt', create_using=nx.DiGraph)"
   ]
  },
  {
   "cell_type": "code",
   "execution_count": 4,
   "metadata": {},
   "outputs": [],
   "source": [
    "# Create gexf file format\n",
    "nx.write_gexf(gn, \"data/hep-th.gexf\")"
   ]
  },
  {
   "attachments": {},
   "cell_type": "markdown",
   "metadata": {},
   "source": [
    "### Basic Analysis"
   ]
  },
  {
   "cell_type": "code",
   "execution_count": 5,
   "metadata": {},
   "outputs": [
    {
     "name": "stdout",
     "output_type": "stream",
     "text": [
      "Total nodes:  27770\n",
      "Total edges:  352807\n",
      "Max degree:  2468\n",
      "Min degree:  1\n",
      "Max out-degree:  562\n",
      "Min out-degree:  0\n",
      "Max in-degree:  2414\n",
      "Min in-degree:  0\n",
      "Average degree:  25.409218581202737\n"
     ]
    }
   ],
   "source": [
    "node_list = list(gn.nodes)\n",
    "print(\"Total nodes: \", len(node_list))\n",
    "\n",
    "edge_list = gn.edges\n",
    "print(\"Total edges: \", len(edge_list))\n",
    "\n",
    "degree_list = dict(gn.degree).values()\n",
    "print(\"Max degree: \", max(degree_list))\n",
    "print(\"Min degree: \", min(degree_list))\n",
    "\n",
    "out_degree_list = dict(gn.out_degree).values()\n",
    "print(\"Max out-degree: \", max(out_degree_list))\n",
    "print(\"Min out-degree: \", min(out_degree_list))\n",
    "\n",
    "in_degree_list = dict(gn.in_degree).values()\n",
    "print(\"Max in-degree: \", max(in_degree_list))\n",
    "print(\"Min in-degree: \", min(in_degree_list))\n",
    "\n",
    "avg_degree = sum(degree_list)/len(node_list)\n",
    "print(\"Average degree: \", avg_degree)"
   ]
  },
  {
   "cell_type": "code",
   "execution_count": 6,
   "metadata": {},
   "outputs": [],
   "source": [
    "# Plotting degree dist\n",
    "\n",
    "def plot_degree_dist(degree_sequence):\n",
    "    plt.figure(\"Degree Distribution\", figsize=(5, 3))\n",
    "    plt.bar(*np.unique(degree_sequence, return_counts=True))\n",
    "    plt.title(\"In-Degree histogram\")\n",
    "    plt.xlabel(\"In-Degree\")\n",
    "    plt.ylabel(\"# of Nodes\")\n",
    "    # plt.ylim(0, 4600)\n",
    "    plt.show()"
   ]
  },
  {
   "cell_type": "code",
   "execution_count": 7,
   "metadata": {},
   "outputs": [
    {
     "data": {
      "image/png": "[encoded data removed]",
      "text/plain": [
       "<Figure size 360x216 with 1 Axes>"
      ]
     },
     "metadata": {
      "needs_background": "light"
     },
     "output_type": "display_data"
    }
   ],
   "source": [
    "# Total degree distribution\n",
    "\n",
    "degree_sequence = sorted((d for n, d in gn.degree()), reverse=True)\n",
    "plot_degree_dist(degree_sequence)"
   ]
  },
  {
   "cell_type": "code",
   "execution_count": 8,
   "metadata": {},
   "outputs": [
    {
     "data": {
      "image/png": "[encoded data removed]",
      "text/plain": [
       "<Figure size 360x216 with 1 Axes>"
      ]
     },
     "metadata": {
      "needs_background": "light"
     },
     "output_type": "display_data"
    }
   ],
   "source": [
    "# Out degree distribution\n",
    "\n",
    "degree_sequence = sorted((d for n, d in gn.out_degree()), reverse=True)\n",
    "plot_degree_dist(degree_sequence)"
   ]
  },
  {
   "cell_type": "code",
   "execution_count": 9,
   "metadata": {},
   "outputs": [
    {
     "data": {
      "image/png": "[encoded data removed]",
      "text/plain": [
       "<Figure size 360x216 with 1 Axes>"
      ]
     },
     "metadata": {
      "needs_background": "light"
     },
     "output_type": "display_data"
    }
   ],
   "source": [
    "# In degree distribution\n",
    "\n",
    "degree_sequence = sorted((d for n, d in gn.in_degree()), reverse=True)\n",
    "plot_degree_dist(degree_sequence)"
   ]
  },
  {
   "attachments": {},
   "cell_type": "markdown",
   "metadata": {},
   "source": [
    "### Computing Graph Metrics"
   ]
  },
  {
   "cell_type": "code",
   "execution_count": 10,
   "metadata": {},
   "outputs": [
    {
     "data": {
      "text/plain": [
       "0.0017156007411713394"
      ]
     },
     "execution_count": 10,
     "metadata": {},
     "output_type": "execute_result"
    }
   ],
   "source": [
    "# Assortativity\n",
    "nx.degree_assortativity_coefficient(gn)"
   ]
  },
  {
   "cell_type": "code",
   "execution_count": 11,
   "metadata": {},
   "outputs": [
    {
     "data": {
      "text/plain": [
       "0.0004575105077821084"
      ]
     },
     "execution_count": 11,
     "metadata": {},
     "output_type": "execute_result"
    }
   ],
   "source": [
    "# Density\n",
    "nx.density(gn)"
   ]
  },
  {
   "cell_type": "code",
   "execution_count": 12,
   "metadata": {},
   "outputs": [
    {
     "data": {
      "text/plain": [
       "0.002738040911886669"
      ]
     },
     "execution_count": 12,
     "metadata": {},
     "output_type": "execute_result"
    }
   ],
   "source": [
    "# Reciprocity\n",
    "nx.reciprocity(gn)"
   ]
  },
  {
   "cell_type": "code",
   "execution_count": 13,
   "metadata": {},
   "outputs": [],
   "source": [
    "# No. of triangles (taking too long)\n",
    "# triangles = gi.cliques(min=3, max=3)\n",
    "# len(triangles)"
   ]
  },
  {
   "cell_type": "code",
   "execution_count": 14,
   "metadata": {},
   "outputs": [
    {
     "data": {
      "text/plain": [
       "0.13276997672801327"
      ]
     },
     "execution_count": 14,
     "metadata": {},
     "output_type": "execute_result"
    }
   ],
   "source": [
    "# Transitivity\n",
    "nx.transitivity(gn)"
   ]
  },
  {
   "cell_type": "code",
   "execution_count": 15,
   "metadata": {},
   "outputs": [],
   "source": [
    "# Eccentricity\n",
    "eccentricity_list = gi.eccentricity()"
   ]
  },
  {
   "attachments": {},
   "cell_type": "markdown",
   "metadata": {},
   "source": [
    "### Computing Centralities"
   ]
  },
  {
   "cell_type": "code",
   "execution_count": 96,
   "metadata": {},
   "outputs": [],
   "source": [
    "# Betweenness\n",
    "betweenness = gi.betweenness()\n",
    "betweenness = [betweenness[int(i)] for i in node_list]"
   ]
  },
  {
   "cell_type": "code",
   "execution_count": 125,
   "metadata": {},
   "outputs": [
    {
     "name": "stdout",
     "output_type": "stream",
     "text": [
      "27769 82689201.01674838\n",
      "27768 69020550.10148965\n",
      "27767 68969608.950498\n",
      "27766 34350962.667975515\n",
      "27765 28030674.80847053\n"
     ]
    }
   ],
   "source": [
    "top_5_values = sorted(betweenness, reverse=True)[:5]\n",
    "top_5_indices = [betweenness.index(i) for i in top_5_values]\n",
    "\n",
    "for i, j in zip(top_5_indices, top_5_values):\n",
    "    print(i, j)"
   ]
  },
  {
   "cell_type": "code",
   "execution_count": 113,
   "metadata": {},
   "outputs": [],
   "source": [
    "# Harmonic\n",
    "\n",
    "harmonic = gi.harmonic_centrality()"
   ]
  },
  {
   "cell_type": "code",
   "execution_count": 114,
   "metadata": {},
   "outputs": [
    {
     "name": "stdout",
     "output_type": "stream",
     "text": [
      "Max harmonic centrality:  0.001205813046711459\n",
      "Node:  9711200\n"
     ]
    }
   ],
   "source": [
    "harmonic = [harmonic[int(i)] for i in node_indices]\n",
    "print(\"Max harmonic centrality: \", max(harmonic))\n",
    "print(\"Node: \", node_indices[harmonic.index(max(harmonic))])"
   ]
  },
  {
   "attachments": {},
   "cell_type": "markdown",
   "metadata": {},
   "source": [
    "### Graph Coloring"
   ]
  },
  {
   "cell_type": "code",
   "execution_count": 16,
   "metadata": {},
   "outputs": [
    {
     "name": "stdout",
     "output_type": "stream",
     "text": [
      "Number of colors:  17\n"
     ]
    }
   ],
   "source": [
    "color_dict = nx.greedy_color(gn)\n",
    "print(\"Number of colors: \", len(set(color_dict.values())))"
   ]
  }
 ],
 "metadata": {
  "kernelspec": {
   "display_name": "Python 3",
   "language": "python",
   "name": "python3"
  },
  "language_info": {
   "codemirror_mode": {
    "name": "ipython",
    "version": 3
   },
   "file_extension": ".py",
   "mimetype": "text/x-python",
   "name": "python",
   "nbconvert_exporter": "python",
   "pygments_lexer": "ipython3",
   "version": "3.9.6"
  },
  "orig_nbformat": 4
 },
 "nbformat": 4,
 "nbformat_minor": 2
}
